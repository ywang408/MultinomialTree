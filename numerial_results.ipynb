{
 "cells": [
  {
   "cell_type": "code",
   "execution_count": 1,
   "id": "initial_id",
   "metadata": {
    "collapsed": true,
    "ExecuteTime": {
     "end_time": "2023-10-14T20:24:09.652125Z",
     "start_time": "2023-10-14T20:24:09.211428Z"
    }
   },
   "outputs": [],
   "source": [
    "from src.algorithms import binomial_tree, bs, price_option, fft_heston_put\n",
    "from src.core import EuropeanPut, AmericanPut\n",
    "from src.core import GBM, Heston, FourOverTwo\n",
    "import numpy as np"
   ]
  },
  {
   "cell_type": "markdown",
   "source": [
    "## Black Scholes model"
   ],
   "metadata": {
    "collapsed": false
   },
   "id": "bac6f5eba7e9b43"
  },
  {
   "cell_type": "code",
   "execution_count": 2,
   "outputs": [
    {
     "name": "stdout",
     "output_type": "stream",
     "text": [
      "Black Scholes Formula: 4.07610\n",
      "Quadrinomial Tree with 1000 steps: 4.08024\n",
      "Binomial Tree with 1000 steps: 4.07483\n"
     ]
    }
   ],
   "source": [
    "s0 = 50\n",
    "K = 50\n",
    "r = 0.1\n",
    "sigma = 0.4\n",
    "T = 0.4167\n",
    "\n",
    "bs_price = bs(s0, K, T, sigma, r, 'put')\n",
    "gbm = GBM(np.log(s0), sigma, r, sigma)\n",
    "tree_price = price_option(EuropeanPut(50), gbm, 1000, T, 1 / 6, 1)\n",
    "binomial_price = binomial_tree(s0, K, T, sigma, r, 1000, 'put')\n",
    "print(f\"Black Scholes Formula: {bs_price:.5f}\")\n",
    "print(f\"Quadrinomial Tree with 1000 steps: {tree_price:.5f}\")\n",
    "print(f\"Binomial Tree with 1000 steps: {binomial_price:.5f}\")"
   ],
   "metadata": {
    "collapsed": false,
    "ExecuteTime": {
     "end_time": "2023-10-14T19:24:36.840309Z",
     "start_time": "2023-10-14T19:24:23.200635Z"
    }
   },
   "id": "2346f7ab866b44d1"
  },
  {
   "cell_type": "markdown",
   "source": [
    "## Heston model\n",
    "\n",
    "### European put option"
   ],
   "metadata": {
    "collapsed": false
   },
   "id": "9b86ff385fe64884"
  },
  {
   "cell_type": "code",
   "execution_count": 10,
   "outputs": [
    {
     "name": "stdout",
     "output_type": "stream",
     "text": [
      "European put option under Heston model\n",
      "Quadrinomial tree with 100 steps and average on 100 trials: 83.38621\n",
      "Heston formula integrated by fft: 83.40690\n"
     ]
    }
   ],
   "source": [
    "s0 = 1500\n",
    "x0 = np.log(s0)\n",
    "r = 0.05\n",
    "y0 = 0.04\n",
    "alpha = 3\n",
    "nu = 0.04\n",
    "sigma_v = 0.1\n",
    "T = 1\n",
    "\n",
    "num_steps = 100\n",
    "num_trials = 100\n",
    "dt = T / num_steps\n",
    "p = 1 / 12\n",
    "\n",
    "heston = Heston(x0, y0, r, alpha, nu, sigma_v)\n",
    "eu_put = EuropeanPut(strike=1500)\n",
    "tree_price = price_option(eu_put, heston, num_steps, T, p, num_trials)\n",
    "fft_price = fft_heston_put(1500, T, s0, r, 0, y0, alpha, nu, sigma_v, rho=0)\n",
    "\n",
    "print(\"European put option under Heston model\")\n",
    "print(f\"Quadrinomial tree with {num_steps} steps and average on {num_trials} trials: {tree_price:.5f}\")\n",
    "print(f\"Heston formula integrated by fft: {fft_price:.5f}\")"
   ],
   "metadata": {
    "collapsed": false,
    "ExecuteTime": {
     "end_time": "2023-10-14T19:41:23.995671Z",
     "start_time": "2023-10-14T19:41:11.120175Z"
    }
   },
   "id": "f72870c232617a4d"
  },
  {
   "cell_type": "markdown",
   "source": [
    "### American put option"
   ],
   "metadata": {
    "collapsed": false
   },
   "id": "9632a01b76e1adb6"
  },
  {
   "cell_type": "code",
   "execution_count": 13,
   "outputs": [
    {
     "name": "stdout",
     "output_type": "stream",
     "text": [
      "American put option under Heston model\n",
      "Quadrinomial tree with 100 steps and average on 100 trials: 91.06760\n"
     ]
    }
   ],
   "source": [
    "am_put = AmericanPut(strike=1500)\n",
    "tree_am_price = price_option(am_put, heston, num_steps, T, p, num_trials)\n",
    "print(\"American put option under Heston model:\")\n",
    "print(f\"Quadrinomial tree with {num_steps} steps and average on {num_trials} trials: {tree_am_price:.5f}\")"
   ],
   "metadata": {
    "collapsed": false,
    "ExecuteTime": {
     "end_time": "2023-10-14T19:43:03.361989Z",
     "start_time": "2023-10-14T19:42:49.946020Z"
    }
   },
   "id": "768c604e304069cd"
  },
  {
   "cell_type": "markdown",
   "source": [
    "## 4/2 Model"
   ],
   "metadata": {
    "collapsed": false
   },
   "id": "a06b45c236c66b1d"
  },
  {
   "cell_type": "code",
   "execution_count": 8,
   "outputs": [
    {
     "name": "stdout",
     "output_type": "stream",
     "text": [
      "European put price under 4/2 model: 84.15650\n",
      "American put price under 4/2 model: 91.88666\n"
     ]
    }
   ],
   "source": [
    "s0 = 1500\n",
    "x0 = np.log(s0)\n",
    "r = 0.05\n",
    "y0 = 0.04\n",
    "alpha = 3\n",
    "nu = 0.04\n",
    "sigma_v = 0.1\n",
    "T = 1\n",
    "\n",
    "num_steps = 100\n",
    "num_trials = 100\n",
    "dt = T / num_steps\n",
    "p = 1 / 12\n",
    "\n",
    "a = 0.5\n",
    "b = (1 - a) * y0\n",
    "four_over_two = FourOverTwo(x0, y0, r, alpha, nu, sigma_v, a, b)\n",
    "eu_put = EuropeanPut(strike=1500)\n",
    "tree_price = price_option(eu_put, four_over_two, num_steps, T, p, num_trials)\n",
    "am_put = AmericanPut(strike=1500)\n",
    "tree_am_price = price_option(am_put, four_over_two, num_steps, T, p, num_trials)\n",
    "\n",
    "print(f\"European put price under 4/2 model: {tree_price:.5f}\\n\"\n",
    "      f\"American put price under 4/2 model: {tree_am_price:.5f}\")"
   ],
   "metadata": {
    "collapsed": false,
    "ExecuteTime": {
     "end_time": "2023-10-14T20:32:46.394715Z",
     "start_time": "2023-10-14T20:32:20.259Z"
    }
   },
   "id": "a2fe6bf7af3a1785"
  }
 ],
 "metadata": {
  "kernelspec": {
   "display_name": "Python 3",
   "language": "python",
   "name": "python3"
  },
  "language_info": {
   "codemirror_mode": {
    "name": "ipython",
    "version": 2
   },
   "file_extension": ".py",
   "mimetype": "text/x-python",
   "name": "python",
   "nbconvert_exporter": "python",
   "pygments_lexer": "ipython2",
   "version": "2.7.6"
  }
 },
 "nbformat": 4,
 "nbformat_minor": 5
}
